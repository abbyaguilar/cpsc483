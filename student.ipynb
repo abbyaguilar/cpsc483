{
  "metadata": {
    "kernelspec": {
      "display_name": "Python 3",
      "language": "python",
      "name": "python3"
    },
    "language_info": {
      "name": "python",
      "version": "3.6.4",
      "mimetype": "text/x-python",
      "codemirror_mode": {
        "name": "ipython",
        "version": 3
      },
      "pygments_lexer": "ipython3",
      "nbconvert_exporter": "python",
      "file_extension": ".py"
    },
    "colab": {
      "provenance": [],
      "include_colab_link": true
    }
  },
  "nbformat_minor": 0,
  "nbformat": 4,
  "cells": [
    {
      "cell_type": "markdown",
      "metadata": {
        "id": "view-in-github",
        "colab_type": "text"
      },
      "source": [
        "<a href=\"https://colab.research.google.com/github/abbyaguilar/cpsc483/blob/main/student.ipynb\" target=\"_parent\"><img src=\"https://colab.research.google.com/assets/colab-badge.svg\" alt=\"Open In Colab\"/></a>"
      ]
    },
    {
      "cell_type": "code",
      "source": [
        "# This Python 3 environment comes with many helpful analytics libraries installed\n",
        "# It is defined by the kaggle/python docker image: https://github.com/kaggle/docker-python\n",
        "# For example, here's several helpful packages to load in\n",
        "\n",
        "import numpy as np # linear algebra\n",
        "import pandas as pd # data processing, CSV file I/O (e.g. pd.read_csv)\n",
        "import matplotlib.pyplot as plt\n",
        "\n",
        "# Input data files are available in the \"../input/\" directory.\n",
        "# For example, running this (by clicking run or pressing Shift+Enter) will list the files in the input directory\n",
        "\n",
        "import os\n",
        "print(os.listdir())\n",
        "\n",
        "# Any results you write to the current directory are saved as output."
      ],
      "metadata": {
        "_uuid": "8f2839f25d086af736a60e9eeb907d3b93b6e0e5",
        "_cell_guid": "b1076dfc-b9ad-4769-8c92-a6c4dae69d19",
        "trusted": true,
        "id": "34_8AsRg4fbA",
        "colab": {
          "base_uri": "https://localhost:8080/"
        },
        "outputId": "afc08d39-f647-4086-e3ec-734cfe1084b4"
      },
      "execution_count": 1,
      "outputs": [
        {
          "output_type": "stream",
          "name": "stdout",
          "text": [
            "['.config', 'sample_data']\n"
          ]
        }
      ]
    },
    {
      "cell_type": "markdown",
      "source": [],
      "metadata": {
        "id": "ADMK4LBf4fbB"
      }
    },
    {
      "cell_type": "markdown",
      "source": [
        "# Probability\n",
        "\n",
        "There are 52 cards In a standard deck of cards and of those 52 cards, 4 are Aces. If you follow the example of the coin flipping from above to know the probability of drawing an Ace, you'll divide the number of possible event outcomes (4), by the sample space (52)"
      ],
      "metadata": {
        "id": "KgJioSGg4fbB"
      }
    },
    {
      "cell_type": "code",
      "source": [
        "# Sample Space\n",
        "cards = 52\n",
        "\n",
        "# Outcomes\n",
        "aces = 4\n",
        "\n",
        "# Divide possible outcomes by the sample set\n",
        "ace_probability =  aces / cards\n",
        "\n",
        "# Print probability rounded to two decimal places\n",
        "print(round(ace_probability, 2))\n",
        "\n",
        "# Ace Probability Percent Code\n",
        "ace_probability_percent = ace_probability * 100\n",
        "\n",
        "# Print probability percent rounded to one decimal place\n",
        "print(str(round(ace_probability_percent, 0)) + '%')"
      ],
      "metadata": {
        "trusted": true,
        "id": "naOlaBQr4fbC",
        "colab": {
          "base_uri": "https://localhost:8080/"
        },
        "outputId": "11e2ebde-3e16-4705-b2da-374302ac8177"
      },
      "execution_count": null,
      "outputs": [
        {
          "output_type": "stream",
          "name": "stdout",
          "text": [
            "0.08\n",
            "8.0%\n"
          ]
        }
      ]
    },
    {
      "cell_type": "markdown",
      "source": [
        "Now that you have seen examples where you calculated probabilities, it's easy to assume that you might build out your probability calculations to determine, for example, the probability of drawing a card that is a Heart, a face card (such as Jacks, Queens, or Kings), or a combination of both, such as a Queen of Hearts."
      ],
      "metadata": {
        "id": "Zbxy-DLv4fbC"
      }
    },
    {
      "cell_type": "code",
      "source": [
        "# Create function that returns probability percent rounded to one decimal place\n",
        "def event_probability(event_outcomes, sample_space):\n",
        "    probability = (event_outcomes / sample_space) * 100\n",
        "    return round(probability, 1)\n",
        "\n",
        "# Sample Space\n",
        "cards = 52\n",
        "\n",
        "# Determine the probability of drawing a heart\n",
        "hearts = 13\n",
        "heart_probability = event_probability(hearts, cards)\n",
        "\n",
        "# Determine the probability of drawing a face card\n",
        "face_cards = 12\n",
        "face_card_probability = event_probability(face_cards, cards )\n",
        "\n",
        "# Determine the probability of drawing the queen of hearts\n",
        "queen_of_hearts = 1\n",
        "queen_of_hearts_probability = event_probability( queen_of_hearts, cards )\n",
        "\n",
        "# Print each probability\n",
        "print(\"Probability of Heart :- \",str(heart_probability) + '%')\n",
        "print(\"Probability of Face Card :- \",str(face_card_probability) + '%')\n",
        "print(\"Probability of Queen of Hearts :- \",str(queen_of_hearts_probability) + '%')"
      ],
      "metadata": {
        "trusted": true,
        "id": "h7j0rq9r4fbC",
        "colab": {
          "base_uri": "https://localhost:8080/"
        },
        "outputId": "a8c681a9-cd9a-4046-c808-b70ee0691970"
      },
      "execution_count": null,
      "outputs": [
        {
          "output_type": "stream",
          "name": "stdout",
          "text": [
            "Probability of Heart :-  25.0%\n",
            "Probability of Face Card :-  23.1%\n",
            "Probability of Queen of Hearts :-  1.9%\n"
          ]
        }
      ]
    },
    {
      "cell_type": "markdown",
      "source": [
        "# Permutations\n",
        "\n",
        "Consider another example with Aces. There are four Aces in a deck of cards, and these are all the different combinations of pocket Aces;\n",
        "\n",
        "a). Ace Hearts / Ace Diamonds\n",
        "\n",
        "b). Ace Hearts / Ace Clubs\n",
        "\n",
        "c). Ace Hearts / Ace Spades\n",
        "\n",
        "d). Ace Diamonds / Ace Clubs\n",
        "\n",
        "e). Ace Diamonds / Ace Spades\n",
        "\n",
        "f). Ace Clubs / Ace Spades\n",
        "\n",
        "There are six combinations of pocket Aces. To find the number of combinations, you first must find the number of permutations:"
      ],
      "metadata": {
        "id": "Nl8PoGZt4fbC"
      }
    },
    {
      "cell_type": "code",
      "source": [
        "# Permutations Code\n",
        "import math\n",
        "n = 4\n",
        "k = 2\n",
        "\n",
        "# Determine permutations and print result\n",
        "Permutations = math.factorial(n) / math.factorial(n-k)\n",
        "print(Permutations)"
      ],
      "metadata": {
        "trusted": true,
        "id": "_YZVfky64fbC",
        "colab": {
          "base_uri": "https://localhost:8080/"
        },
        "outputId": "db3c8b22-3ee2-459e-80e6-42c7b43106b5"
      },
      "execution_count": null,
      "outputs": [
        {
          "output_type": "stream",
          "name": "stdout",
          "text": [
            "12.0\n"
          ]
        }
      ]
    },
    {
      "cell_type": "markdown",
      "source": [
        "# Combinations\n",
        "\n",
        "To determine the number of combinations, simply divide the number of permutations by the factorial of the size of the subset. Try finding the number of starting hand combinations that can be dealt in Texas Hold’em."
      ],
      "metadata": {
        "id": "LtUfTN8Z4fbD"
      }
    },
    {
      "cell_type": "code",
      "source": [
        "# Combinations Code\n",
        "n = 52\n",
        "k = 2\n",
        "\n",
        "# Determine Permutations\n",
        "Permutations = math.factorial(n) /  math.factorial(n - k)\n",
        "\n",
        "# Determine Combinations and print result\n",
        "Combinations = Permutations / math.factorial(k)\n",
        "print(Combinations)"
      ],
      "metadata": {
        "trusted": true,
        "id": "EqcB1yvl4fbD",
        "colab": {
          "base_uri": "https://localhost:8080/"
        },
        "outputId": "c493ab48-50ac-4540-f0b1-952b98f3e14c"
      },
      "execution_count": null,
      "outputs": [
        {
          "output_type": "stream",
          "name": "stdout",
          "text": [
            "1326.0\n"
          ]
        }
      ]
    },
    {
      "cell_type": "markdown",
      "source": [
        "# Generating random numbers using the np.random module\n",
        "\n",
        "We will be hammering the np.random module for the rest of this course and its sequel. Actually, you will probably call functions from this module more than any other while wearing your hacker statistician hat. Let's start by taking its simplest function, np.random.random() for a test spin. The function returns a random number between zero and one. Call np.random.random() a few times in the IPython shell. You should see numbers jumping around between zero and one.\n",
        "\n",
        "In this exercise, we'll generate lots of random numbers between zero and one, and then plot a histogram of the results. If the numbers are truly random, all bars in the histogram should be of (close to) equal height.\n",
        "\n",
        "You may have noticed that, in the video, Justin generated 4 random numbers by passing the keyword argument size=4 to np.random.random(). Such an approach is more efficient than a for loop: in this exercise, however, you will write a for loop to experience hacker statistics as the practice of repeating an experiment over and over again.\n",
        "\n",
        "**INSTRUCTIONS**\n",
        "\n",
        "\t• Seed the random number generator using the seed 42.\n",
        "\t• Initialize an empty array, random_numbers, of 100,000 entries to store the random numbers. Make sure you use np.empty(100000) to do this.\n",
        "\t• Write a for loop to draw 100,000 random numbers using np.random.random(), storing them in the random_numbers array. To do so, loop over range(100000).\n",
        "\t• Plot a histogram of random_numbers. It is not necessary to label the axes in this case because we are just checking the random number generator. Hit 'Submit Answer' to show your plot.\n"
      ],
      "metadata": {
        "id": "gi330Irq4fbD"
      }
    },
    {
      "cell_type": "code",
      "source": [
        "# Seed the random number generator\n",
        "# Initialize random numbers: random_numbers\n",
        "random_numbers = np.empty(100000)\n",
        "\n",
        "# Generate random numbers by looping over range(100000)\n",
        "for i in range(100000):\n",
        "    random_numbers[i] = np.random.random()\n",
        "\n",
        "# Plot a histogram\n",
        "_ = plt.hist(random_numbers)\n",
        "\n",
        "# Show the plot\n",
        "plt.show()\n"
      ],
      "metadata": {
        "trusted": true,
        "id": "OjmqCZN44fbD",
        "colab": {
          "base_uri": "https://localhost:8080/",
          "height": 430
        },
        "outputId": "1c2cb923-de35-4d3a-9af9-4f55331c7a1d"
      },
      "execution_count": null,
      "outputs": [
        {
          "output_type": "display_data",
          "data": {
            "text/plain": [
              "<Figure size 640x480 with 1 Axes>"
            ],
            "image/png": "[encoded data removed]"
          },
          "metadata": {}
        }
      ]
    },
    {
      "cell_type": "markdown",
      "source": [
        "# Plotting a Histogram of Iris Data\n",
        "\n",
        "For the exercises in this section, you will use a classic data set collected by botanist Edward Anderson and made famous by Ronald Fisher, one of the most prolific statisticians in history. Anderson carefully measured the anatomical properties of samples of three different species of iris, Iris setosa, Iris versicolor, and Iris virginica. The full data set is available as part of scikit-learn. Here, you will work with his measurements of petal length.\n",
        "\n",
        "Plot a histogram of the petal lengths of his 50 samples of Iris versicolor using matplotlib/seaborn's default settings. Recall that to specify the default seaborn style, you can use sns.set(), where sns is the alias that seaborn is imported as.\n",
        "\n",
        "The subset of the data set containing the Iris versicolor petal lengths in units of centimeters (cm) is stored in the NumPy array versicolor_petal_length.\n",
        "\n",
        "In the video, Justin plotted the histograms by using the pandas library and indexing the DataFrame to extract the desired column. Here, however, you only need to use the provided NumPy array. Also, Justin assigned his plotting statements (except for plt.show()) to the dummy variable _. This is to prevent unnecessary output from being displayed. It is not required for your solutions to these exercises, however it is good practice to use it. Alternatively, if you are working in an interactive environment such as a Jupyter notebook, you could use a ; after your plotting statements to achieve the same effect. Justin prefers using _. Therefore, you will see it used in the solution code.\n",
        "\n",
        "**INSTRUCTIONS**\n",
        "\n",
        "\t• Import matplotlib.pyplot and seaborn as their usual aliases (plt and sns).\n",
        "\t• Use seaborn to set the plotting defaults.\n",
        "\t• Plot a histogram of the Iris versicolor petal lengths using plt.hist() and the provided NumPy array versicolor_petal_length.\n",
        "\t• Show the histogram using plt.show().\n"
      ],
      "metadata": {
        "id": "64dfiVKh4fbE"
      }
    },
    {
      "cell_type": "code",
      "source": [
        "# Import plotting modules\n",
        "import matplotlib.pyplot as plt\n",
        "import seaborn as sns\n",
        "import pandas as pd\n",
        "\n",
        "iris = pd.read_csv('./input/iris.data.csv')\n",
        "\n",
        "print(iris.head())\n",
        "\n",
        "#Create 3 DataFrame for each Species\n",
        "setosa = iris[iris.iloc[:, 4] == 'Iris-setosa']\n",
        "versicolor = iris[iris.iloc[:, 4] == 'Iris-versicolor']\n",
        "virginica = iris[iris.iloc[:, 4] == 'Iris-virginica']\n",
        "\n",
        "setosa_petal_length = setosa.iloc[:, 0].values\n",
        "versicolor_petal_length = versicolor.iloc[:, 0].values\n",
        "virginica_petal_length = virginica.iloc[:, 0].values\n",
        "\n",
        "# Set default Seaborn style\n",
        "sns.set()\n",
        "\n",
        "# Plot histogram of versicolor petal lengths\n",
        "plt.hist(versicolor_petal_length)\n",
        "\n",
        "# Show histogram\n",
        "plt.show()\n"
      ],
      "metadata": {
        "trusted": true,
        "id": "WiKVEMno4fbE",
        "colab": {
          "base_uri": "https://localhost:8080/",
          "height": 538
        },
        "outputId": "5d54f799-d659-48ec-c506-3f66dce7c7c7"
      },
      "execution_count": null,
      "outputs": [
        {
          "output_type": "stream",
          "name": "stdout",
          "text": [
            "   5.1  3.5  1.4  0.2  Iris-setosa\n",
            "0  4.9  3.0  1.4  0.2  Iris-setosa\n",
            "1  4.7  3.2  1.3  0.2  Iris-setosa\n",
            "2  4.6  3.1  1.5  0.2  Iris-setosa\n",
            "3  5.0  3.6  1.4  0.2  Iris-setosa\n",
            "4  5.4  3.9  1.7  0.4  Iris-setosa\n"
          ]
        },
        {
          "output_type": "display_data",
          "data": {
            "text/plain": [
              "<Figure size 640x480 with 1 Axes>"
            ],
            "image/png": "[encoded data removed]"
          },
          "metadata": {}
        }
      ]
    },
    {
      "cell_type": "markdown",
      "source": [
        "**Computing the ECDF**\n",
        "\n",
        "In this exercise, you will write a function that takes as input a 1D array of data and then returns the x and y values of the ECDF. You will use this function over and over again throughout this course and its sequel. ECDFs are among the most important plots in statistical analysis. You can write your own function, foo(x,y) according to the following skeleton:\n",
        "\n",
        "def foo(a,b):\n",
        "    \"\"\"State what function does here\"\"\"\n",
        "    # Computation performed here\n",
        "    return x, y\n",
        "\n",
        "The function foo() above takes two arguments a and b and returns two values x and y. The function header def foo(a,b): contains the function signature foo(a,b), which consists of the function name, along with its parameters. For more on writing your own functions, see DataCamp's course Python Data Science Toolbox (Part 1) here!\n",
        "\n",
        "**INSTRUCTIONS**\n",
        "\n",
        "\t• Define a function with the signature ecdf(data). Within the function definition,\n",
        "\t\t○ Compute the number of data points, n, using the len() function.\n",
        "\t\t○ The xx-values are the sorted data. Use the np.sort() function to perform the sorting.\n",
        "\t\t○ The yy data of the ECDF go from 1/n to 1 in equally spaced increments. You can construct this using np.arange(). Remember, however, that the end value in np.arange() is not inclusive. Therefore, np.arange() will need to go from 1 to n+1. Be sure to divide this by n.\n",
        "\t\t○ The function returns the values x and y.\n"
      ],
      "metadata": {
        "id": "CLX0jvhg4fbE"
      }
    },
    {
      "cell_type": "code",
      "source": [
        "def ecdf(data):\n",
        "    \"\"\"Compute ECDF for a one-dimensional array of measurements.\"\"\"\n",
        "    # Number of data points: n\n",
        "    n=len(data)\n",
        "\n",
        "\n",
        "    # x-data for the ECDF: x\n",
        "    x = np.sort(data)\n",
        "\n",
        "\n",
        "    # y-data for the ECDF: y\n",
        "    y = np.arange(1, n+1 ) / n\n",
        "\n",
        "    return x, y\n"
      ],
      "metadata": {
        "trusted": true,
        "id": "3vgqMESu4fbE"
      },
      "execution_count": null,
      "outputs": []
    },
    {
      "cell_type": "markdown",
      "source": [
        "**Plotting the ECDF**\n",
        "\n",
        "You will now use your ecdf() function to compute the ECDF for the petal lengths of Anderson's Iris versicolor flowers. You will then plot the ECDF. Recall that your ecdf()function returns two arrays so you will need to unpack them. An example of such unpacking is x, y = foo(data), for some function foo().\n",
        "\n",
        "**INSTRUCTIONS**\n",
        "\n",
        "\n",
        "\t• Use ecdf() to compute the ECDF of versicolor_petal_length. Unpack the output intox_vers and y_vers.\n",
        "\t• Plot the ECDF as dots. Remember to include marker = '.' and linestyle = 'none' in addition to x_vers and y_vers as arguments inside plt.plot().\n",
        "\t• Label the axes. You can label the y-axis 'ECDF'.\n",
        "\t• Show your plot.\n"
      ],
      "metadata": {
        "id": "S4BuZ6dc4fbE"
      }
    },
    {
      "cell_type": "code",
      "source": [
        "from google.colab import drive\n",
        "drive.mount('/content/drive')"
      ],
      "metadata": {
        "colab": {
          "base_uri": "https://localhost:8080/"
        },
        "id": "jH866XP8yXqW",
        "outputId": "3712d678-d070-40b8-83cb-fff1f4cdde68"
      },
      "execution_count": null,
      "outputs": [
        {
          "output_type": "stream",
          "name": "stdout",
          "text": [
            "Mounted at /content/drive\n"
          ]
        }
      ]
    },
    {
      "cell_type": "code",
      "source": [
        "# Compute ECDF for versicolor data: x_vers, y_vers\n",
        "x_vers, y_vers = ecdf(versicolor_petal_length)\n",
        "\n",
        "# Generate plot\n",
        "plt.plot(x_vers,y_vers, marker='.',linestyle='none')\n",
        "\n",
        "# Label the axes\n",
        "plt.xlabel('Petal Length')\n",
        "plt.ylabel('ECDF')\n",
        "\n",
        "\n",
        "# Display the plot\n",
        "plt.show()\n"
      ],
      "metadata": {
        "trusted": true,
        "id": "bezOaArP4fbE",
        "colab": {
          "base_uri": "https://localhost:8080/",
          "height": 458
        },
        "outputId": "cdbd6f4b-a615-40c2-e8ec-1c22ef1f5146"
      },
      "execution_count": null,
      "outputs": [
        {
          "output_type": "display_data",
          "data": {
            "text/plain": [
              "<Figure size 640x480 with 1 Axes>"
            ],
            "image/png": "[encoded data removed]"
          },
          "metadata": {}
        }
      ]
    },
    {
      "cell_type": "markdown",
      "source": [
        "**Comparison of ECDFs**\n",
        "\n",
        "ECDFs also allow you to compare two or more distributions (though plots get cluttered if you have too many). Here, you will plot ECDFs for the petal lengths of all three iris species. You already wrote a function to generate ECDFs so you can put it to good use!\n",
        "To overlay all three ECDFs on the same plot, you can use plt.plot() three times, once for each ECDF. Remember to include marker='.' and linestyle='none' as arguments inside plt.plot().\n",
        "\n",
        "**INSTRUCTIONS**\n",
        "\n",
        "\t• Compute ECDFs for each of the three species using your ecdf() function. The variables setosa_petal_length, versicolor_petal_length, and virginica_petal_length are all in your namespace. Unpack the ECDFs into x_set, y_set, x_vers, y_vers and x_virg, y_virg, respectively.\n",
        "\t• Plot all three ECDFs on the same plot as dots. To do this, you will need three plt.plot()commands. Assign the result of each to _.\n",
        "\t• A legend and axis labels have been added for you, so hit 'Submit Answer' to see all the ECDFs!\n"
      ],
      "metadata": {
        "id": "00mdVk1S4fbF"
      }
    },
    {
      "cell_type": "code",
      "source": [
        "# Compute ECDFs\n",
        "x_set, y_set = ecdf(setosa_petal_length)\n",
        "x_vers, y_vers = ecdf(versicolor_petal_length)\n",
        "x_virg, y_virg = ecdf(virginica_petal_length)\n",
        "\n",
        "# Plot all ECDFs on the same plot\n",
        "plt.plot(x_set,y_set, marker='.',linestyle='none')\n",
        "plt.plot(x_vers,y_vers, marker='.',linestyle='none')\n",
        "plt.plot(x_virg,y_virg, marker='.',linestyle='none')\n",
        "\n",
        "\n",
        "\n",
        "# Annotate the plot\n",
        "plt.legend(('setosa', 'versicolor', 'virginica'), loc='lower right')\n",
        "_ = plt.xlabel('petal length (cm)')\n",
        "_ = plt.ylabel('ECDF')\n",
        "\n",
        "# Display the plot\n",
        "plt.show()\n"
      ],
      "metadata": {
        "trusted": true,
        "id": "224rtJx64fbF",
        "colab": {
          "base_uri": "https://localhost:8080/",
          "height": 458
        },
        "outputId": "80f8a376-cdcb-4d95-a647-a7d5b4525cb3"
      },
      "execution_count": null,
      "outputs": [
        {
          "output_type": "display_data",
          "data": {
            "text/plain": [
              "<Figure size 640x480 with 1 Axes>"
            ],
            "image/png": "[encoded data removed]"
          },
          "metadata": {}
        }
      ]
    },
    {
      "cell_type": "markdown",
      "source": [
        "**The np.random module and Bernoulli trials**\n",
        "\n",
        "You can think of a Bernoulli trial as a flip of a possibly biased coin. Specifically, each coin flip has a probability pp of landing heads (success) and probability 1−p1−p of landing tails (failure). In this exercise, you will write a function to perform n Bernoulli trials, perform_bernoulli_trials(n, p), which returns the number of successes out of n Bernoulli trials, each of which has probability p of success. To perform each Bernoulli trial, use the np.random.random() function, which returns a random number between zero and one.\n",
        "\n",
        "**INSTRUCTIONS**\n",
        "\n",
        "\t• Define a function with signature perform_bernoulli_trials(n, p).\n",
        "\t\t○ Initialize to zero a variable n_success the counter of Trues, which are Bernoulli trial successes.\n",
        "\t\t○ Write a for loop where you perform a Bernoulli trial in each iteration and increment the number of success if the result is True. Perform n iterations by looping over range(n).\n",
        "\t\t\t§ To perform a Bernoulli trial, choose a random number between zero and one using np.random.random(). If the number you chose is less than p, increment n_success(use the += 1 operator to achieve this).\n",
        "\t\t○ The function returns the number of successes n_success.\n"
      ],
      "metadata": {
        "id": "0U21Ln_T4fbF"
      }
    },
    {
      "cell_type": "code",
      "source": [
        "def perform_bernoulli_trials(n, p):\n",
        "    \"\"\"Perform n Bernoulli trials with success probability p and return number of successes.\"\"\"\n",
        "\n",
        "    # Initialize number of successes: n_success\n",
        "    n_success = 0\n",
        "\n",
        "\n",
        "    # Perform trials\n",
        "    for i in range(n):\n",
        "        # Choose random number between zero and one: random_number\n",
        "        random_number = np.random.random()\n",
        "\n",
        "        # If less than p, it's a success so add one to n_success\n",
        "        if random_number<p:\n",
        "            n_success+=1\n",
        "\n",
        "    return n_success\n"
      ],
      "metadata": {
        "trusted": true,
        "id": "O0FbyUJy4fbF"
      },
      "execution_count": null,
      "outputs": []
    },
    {
      "cell_type": "markdown",
      "source": [
        "**How many defaults might we expect?**\n",
        "\n",
        "Let's say a bank made 100 mortgage loans. It is possible that anywhere between 0 and 100 of the loans will be defaulted upon. You would like to know the probability of getting a given number of defaults, given that the probability of a default is p = 0.05. To investigate this, you will do a simulation. You will perform 100 Bernoulli trials using the perform_bernoulli_trials() function you wrote in the previous exercise and record how many defaults we get. Here, a success is a default. (Remember that the word \"success\" just means that the Bernoulli trial evaluates to True, i.e., did the loan recipient default?) You will do this for another 100 Bernoulli trials. And again and again until we have tried it 1000 times. Then, you will plot a histogram describing the probability of the number of defaults.\n",
        "\n",
        "**INSTRUCTIONS**\n",
        "\n",
        "\t• Seed the random number generator to 42.\n",
        "\t• Initialize n_defaults, an empty array, using np.empty(). It should contain 1000 entries, since we are doing 1000 simulations.\n",
        "\t• Write a for loop with 1000 iterations to compute the number of defaults per 100 loans using the perform_bernoulli_trials() function. It accepts two arguments: the number of trials n - in this case 100 - and the probability of success p - in this case the probability of a default, which is 0.05. On each iteration of the loop store the result in an entry of n_defaults.\n",
        "\t• Plot a histogram of n_defaults. Include the normed=Truekeyword argument so that the height of the bars of the histogram indicate the probability.\n",
        "\t• Show your plot.\n"
      ],
      "metadata": {
        "id": "0OnXhfDw4fbF"
      }
    },
    {
      "cell_type": "code",
      "source": [
        "# Seed random number generator\n",
        "np.random.seed(42)\n",
        "\n",
        "# Initialize the number of defaults: n_defaults\n",
        "n_defaults = np.empty(1000)\n",
        "\n",
        "# Compute the number of defaults\n",
        "for i in range(1000):\n",
        "    n_defaults[i] = perform_bernoulli_trials(100,0.05)\n",
        "\n",
        "\n",
        "# Plot the histogram with default number of bins; label your axes\n",
        "_ = plt.hist(n_defaults, density=True)\n",
        "_ = plt.xlabel('number of defaults out of 100 loans')\n",
        "_ = plt.ylabel('probability')\n",
        "\n",
        "# Show the plot\n",
        "plt.show()\n"
      ],
      "metadata": {
        "trusted": true,
        "id": "Q2HC2jPQ4fbF",
        "colab": {
          "base_uri": "https://localhost:8080/",
          "height": 449
        },
        "outputId": "f83fd9d2-fe6e-4f85-b52f-8c9bea8470fe"
      },
      "execution_count": null,
      "outputs": [
        {
          "output_type": "display_data",
          "data": {
            "text/plain": [
              "<Figure size 640x480 with 1 Axes>"
            ],
            "image/png": "[encoded data removed]"
          },
          "metadata": {}
        }
      ]
    },
    {
      "cell_type": "markdown",
      "source": [
        "**Will the bank fail?**\n",
        "\n",
        "Plot the number of defaults you got from the previous exercise, in your namespace as n_defaults, as a CDF. The ecdf() function you wrote in the first chapter is available.\n",
        "\n",
        "If interest rates are such that the bank will lose money if 10 or more of its loans are defaulted upon, what is the probability that the bank will lose money?\n",
        "\n",
        "**INSTRUCTIONS**\n",
        "\n",
        "\t• Compute the x and y values for the ECDF of n_defaults.\n",
        "\t• Plot the ECDF, making sure to label the axes. Remember to include marker = '.' and linestyle = 'none' in addition to x and y in your call plt.plot().\n",
        "\t• Show the plot.\n",
        "\t• Compute the total number of entries in your n_defaults array that were greater than or equal to 10. To do so, compute a boolean array that tells you whether a given entry of n_defaults is >= 10. Then sum all the entries in this array using np.sum(). For example, np.sum(n_defaults <= 5)would compute the number of defaults with 5 or fewer defaults.\n",
        "\t• The probability that the bank loses money is the fraction of n_defaults that are greater than or equal to 10. Print this result by hitting 'Submit Answer'!\n"
      ],
      "metadata": {
        "id": "7fi_juXs4fbF"
      }
    },
    {
      "cell_type": "code",
      "source": [
        "# Compute ECDF: x, y\n",
        "x,y=ecdf(n_defaults)\n",
        "\n",
        "# Plot the ECDF with labeled axes\n",
        "plt.plot(x,y, marker='.',linestyle='none')\n",
        "plt.xlabel('ECDF')\n",
        "plt.ylabel('Probability')\n",
        "\n",
        "\n",
        "# Show the plot\n",
        "plt.show()\n",
        "\n",
        "# Compute the number of 100-loan simulations with 10 or more defaults: n_lose_money\n",
        "n_lose_money=np.sum(n_defaults>=10)\n",
        "\n",
        "# Compute and print probability of losing money\n",
        "print('Probability of losing money =', n_lose_money / len(n_defaults))\n"
      ],
      "metadata": {
        "trusted": true,
        "id": "j6TCZosk4fbF",
        "colab": {
          "base_uri": "https://localhost:8080/",
          "height": 466
        },
        "outputId": "33e8936f-375c-4005-eafa-42af81764943"
      },
      "execution_count": null,
      "outputs": [
        {
          "output_type": "display_data",
          "data": {
            "text/plain": [
              "<Figure size 640x480 with 1 Axes>"
            ],
            "image/png": "[encoded data removed]"
          },
          "metadata": {}
        },
        {
          "output_type": "stream",
          "name": "stdout",
          "text": [
            "Probability of losing money = 0.022\n"
          ]
        }
      ]
    },
    {
      "cell_type": "markdown",
      "source": [
        "**The Normal PDF**\n",
        "\n",
        "In this exercise, you will explore the Normal PDF and also learn a way to plot a PDF of a known distribution using hacker statistics. Specifically, you will plot a Normal PDF for various values of the variance.\n",
        "\n",
        "**INSTRUCTIONS**\n",
        "\n",
        "• Draw 100,000 samples from a Normal distribution that has a mean of 20 and a standard deviation of 1.\n",
        "\n",
        "Do the same for Normal distributions with standard deviations of 3 and 10, each still with a mean of 20. Assign the results to samples_std1, samples_std3 and samples_std10, respectively.\n",
        "\n",
        "• Plot a histograms of each of the samples; for each, use 100 bins, also using the keyword arguments normed=True and histtype='step'. The latter keyword argument makes the plot look much like the smooth theoretical PDF. You will need to make 3 plt.hist() calls.\n",
        "\n",
        "• Hit 'Submit Answer' to make a legend, showing which standard deviations you used, and show your plot! There is no need to label the axes because we have not defined what is being described by the Normal distribution; we are just looking at shapes of PDFs.\n"
      ],
      "metadata": {
        "id": "umfWEP504fbF"
      }
    },
    {
      "cell_type": "code",
      "source": [
        "# Draw 100000 samples from Normal distribution with stds of interest: samples_std1, samples_std3, samples_std10\n",
        "samples_std1=np.random.normal(20, 1, size=100000)\n",
        "samples_std3=np.random.normal(20, 3, size=100000)\n",
        "samples_std10=np.random.normal(20, 10, size=100000)\n",
        "\n",
        "# Make histograms\n",
        "plt.hist(samples_std1,density=True, bins=100, histtype='step')\n",
        "plt.hist(samples_std3,density=True, bins=100, histtype='step')\n",
        "plt.hist(samples_std10,density=True, bins=100, histtype='step')\n",
        "\n",
        "# Make a legend, set limits and show plot\n",
        "_ = plt.legend(('std = 1', 'std = 3', 'std = 10'))\n",
        "plt.ylim(-0.01, 0.42)\n",
        "plt.show()\n"
      ],
      "metadata": {
        "trusted": true,
        "id": "o93oPLXa4fbG",
        "colab": {
          "base_uri": "https://localhost:8080/",
          "height": 430
        },
        "outputId": "35fe5d59-f650-4a81-f964-20eb4d775a9e"
      },
      "execution_count": null,
      "outputs": [
        {
          "output_type": "display_data",
          "data": {
            "text/plain": [
              "<Figure size 640x480 with 1 Axes>"
            ],
            "image/png": "[encoded data removed]"
          },
          "metadata": {}
        }
      ]
    }
  ]
}